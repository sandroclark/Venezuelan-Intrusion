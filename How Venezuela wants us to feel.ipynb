{
 "cells": [
  {
   "cell_type": "code",
   "execution_count": 1,
   "metadata": {},
   "outputs": [],
   "source": [
    "\n",
    "import pandas as pd\n",
    "import numpy as np\n",
    "import matplotlib.pyplot as plt\n",
    "import os\n",
    "\n",
    "\n",
    "import string\n",
    "import nltk\n",
    "from nltk.stem.wordnet import WordNetLemmatizer\n",
    "from nltk.stem.snowball import SnowballStemmer\n",
    "from sklearn.feature_extraction.text import CountVectorizer\n",
    "\n",
    "\n",
    "import datetime\n",
    "datetime.datetime.strptime\n",
    "\n",
    "import preprocessor as p\n",
    "import re\n",
    "\n",
    "import pandas as pd\n",
    "import matplotlib.pyplot as plt\n",
    "import seaborn as sns"
   ]
  },
  {
   "cell_type": "code",
   "execution_count": 2,
   "metadata": {},
   "outputs": [
    {
     "name": "stderr",
     "output_type": "stream",
     "text": [
      "/anaconda3/lib/python3.7/site-packages/IPython/core/interactiveshell.py:3057: DtypeWarning: Columns (19,30) have mixed types. Specify dtype option on import or set low_memory=False.\n",
      "  interactivity=interactivity, compiler=compiler, result=result)\n"
     ]
    }
   ],
   "source": [
    "data = pd.read_csv('/Users/alessandro/Downloads/venezuela_201906_1_tweets_csv_hashed.csv')\n"
   ]
  },
  {
   "cell_type": "code",
   "execution_count": 3,
   "metadata": {},
   "outputs": [],
   "source": [
    "venezuela_tweets = pd.read_csv('/Users/alessandro/Downloads/venezuela_201906_1_tweets_csv_hashed.csv')"
   ]
  },
  {
   "cell_type": "code",
   "execution_count": 4,
   "metadata": {},
   "outputs": [],
   "source": [
    "tweets_mask = data['is_retweet'] == False\n",
    "tweets = data[tweets_mask]\n",
    "\n",
    "tweets_english = tweets[tweets['tweet_language'] == 'en']"
   ]
  },
  {
   "cell_type": "code",
   "execution_count": 5,
   "metadata": {},
   "outputs": [
    {
     "data": {
      "text/html": [
       "<div>\n",
       "<style scoped>\n",
       "    .dataframe tbody tr th:only-of-type {\n",
       "        vertical-align: middle;\n",
       "    }\n",
       "\n",
       "    .dataframe tbody tr th {\n",
       "        vertical-align: top;\n",
       "    }\n",
       "\n",
       "    .dataframe thead th {\n",
       "        text-align: right;\n",
       "    }\n",
       "</style>\n",
       "<table border=\"1\" class=\"dataframe\">\n",
       "  <thead>\n",
       "    <tr style=\"text-align: right;\">\n",
       "      <th></th>\n",
       "      <th>word</th>\n",
       "      <th>disgust</th>\n",
       "      <th>surprise</th>\n",
       "      <th>neutral</th>\n",
       "      <th>anger</th>\n",
       "      <th>sad</th>\n",
       "      <th>happy</th>\n",
       "      <th>fear</th>\n",
       "    </tr>\n",
       "  </thead>\n",
       "  <tbody>\n",
       "    <tr>\n",
       "      <th>0</th>\n",
       "      <td>Abuse</td>\n",
       "      <td>0.001099</td>\n",
       "      <td>0.001099</td>\n",
       "      <td>0.001099</td>\n",
       "      <td>0.141758</td>\n",
       "      <td>0.001099</td>\n",
       "      <td>0.001099</td>\n",
       "      <td>0.001099</td>\n",
       "    </tr>\n",
       "    <tr>\n",
       "      <th>1</th>\n",
       "      <td>Aggravate</td>\n",
       "      <td>0.001099</td>\n",
       "      <td>0.001099</td>\n",
       "      <td>0.001099</td>\n",
       "      <td>0.141758</td>\n",
       "      <td>0.001099</td>\n",
       "      <td>0.001099</td>\n",
       "      <td>0.001099</td>\n",
       "    </tr>\n",
       "    <tr>\n",
       "      <th>2</th>\n",
       "      <td>Agitate</td>\n",
       "      <td>0.001099</td>\n",
       "      <td>0.001099</td>\n",
       "      <td>0.001099</td>\n",
       "      <td>0.141758</td>\n",
       "      <td>0.001099</td>\n",
       "      <td>0.001099</td>\n",
       "      <td>0.001099</td>\n",
       "    </tr>\n",
       "    <tr>\n",
       "      <th>3</th>\n",
       "      <td>Agony</td>\n",
       "      <td>0.001099</td>\n",
       "      <td>0.001099</td>\n",
       "      <td>0.001099</td>\n",
       "      <td>0.141758</td>\n",
       "      <td>0.001099</td>\n",
       "      <td>0.001099</td>\n",
       "      <td>0.001099</td>\n",
       "    </tr>\n",
       "    <tr>\n",
       "      <th>4</th>\n",
       "      <td>Annoy</td>\n",
       "      <td>0.001099</td>\n",
       "      <td>0.001099</td>\n",
       "      <td>0.001099</td>\n",
       "      <td>0.141758</td>\n",
       "      <td>0.001099</td>\n",
       "      <td>0.001099</td>\n",
       "      <td>0.001099</td>\n",
       "    </tr>\n",
       "  </tbody>\n",
       "</table>\n",
       "</div>"
      ],
      "text/plain": [
       "         word   disgust  surprise   neutral     anger       sad     happy  \\\n",
       "0      Abuse   0.001099  0.001099  0.001099  0.141758  0.001099  0.001099   \n",
       "1  Aggravate   0.001099  0.001099  0.001099  0.141758  0.001099  0.001099   \n",
       "2    Agitate   0.001099  0.001099  0.001099  0.141758  0.001099  0.001099   \n",
       "3      Agony   0.001099  0.001099  0.001099  0.141758  0.001099  0.001099   \n",
       "4      Annoy   0.001099  0.001099  0.001099  0.141758  0.001099  0.001099   \n",
       "\n",
       "       fear  \n",
       "0  0.001099  \n",
       "1  0.001099  \n",
       "2  0.001099  \n",
       "3  0.001099  \n",
       "4  0.001099  "
      ]
     },
     "execution_count": 5,
     "metadata": {},
     "output_type": "execute_result"
    }
   ],
   "source": [
    "em_data = pd.read_csv('/Users/alessandro/Downloads/andbrainDataSet108.csv')\n",
    "em_data.head()"
   ]
  },
  {
   "cell_type": "code",
   "execution_count": 6,
   "metadata": {},
   "outputs": [],
   "source": [
    "# clean up the word column\n",
    "em_data[\"word\"] = em_data.word.str.strip().str.lower()\n",
    "\n",
    "# remove duplicates\n",
    "em_data = em_data.groupby('word').mean()"
   ]
  },
  {
   "cell_type": "code",
   "execution_count": 7,
   "metadata": {},
   "outputs": [
    {
     "data": {
      "text/plain": [
       "23634"
      ]
     },
     "execution_count": 7,
     "metadata": {},
     "output_type": "execute_result"
    }
   ],
   "source": [
    "len(em_data)"
   ]
  },
  {
   "cell_type": "markdown",
   "metadata": {},
   "source": [
    "# Reading emotions set. Quickly preprocessing\n"
   ]
  },
  {
   "cell_type": "code",
   "execution_count": 8,
   "metadata": {},
   "outputs": [],
   "source": [
    "def remove_symbols(word, symbol_set):\n",
    "    \n",
    "    '''\n",
    "    Removing symbols from word\n",
    "    '''\n",
    "    return ''.join(char for char in word \n",
    "                    if char not in symbol_set)"
   ]
  },
  {
   "cell_type": "code",
   "execution_count": 9,
   "metadata": {},
   "outputs": [
    {
     "name": "stderr",
     "output_type": "stream",
     "text": [
      "/anaconda3/lib/python3.7/site-packages/ipykernel_launcher.py:12: SettingWithCopyWarning: \n",
      "A value is trying to be set on a copy of a slice from a DataFrame.\n",
      "Try using .loc[row_indexer,col_indexer] = value instead\n",
      "\n",
      "See the caveats in the documentation: http://pandas.pydata.org/pandas-docs/stable/indexing.html#indexing-view-versus-copy\n",
      "  if sys.path[0] == '':\n",
      "/anaconda3/lib/python3.7/site-packages/ipykernel_launcher.py:13: SettingWithCopyWarning: \n",
      "A value is trying to be set on a copy of a slice from a DataFrame.\n",
      "Try using .loc[row_indexer,col_indexer] = value instead\n",
      "\n",
      "See the caveats in the documentation: http://pandas.pydata.org/pandas-docs/stable/indexing.html#indexing-view-versus-copy\n",
      "  del sys.path[0]\n",
      "/anaconda3/lib/python3.7/site-packages/ipykernel_launcher.py:14: SettingWithCopyWarning: \n",
      "A value is trying to be set on a copy of a slice from a DataFrame.\n",
      "Try using .loc[row_indexer,col_indexer] = value instead\n",
      "\n",
      "See the caveats in the documentation: http://pandas.pydata.org/pandas-docs/stable/indexing.html#indexing-view-versus-copy\n",
      "  \n",
      "/anaconda3/lib/python3.7/site-packages/ipykernel_launcher.py:15: SettingWithCopyWarning: \n",
      "A value is trying to be set on a copy of a slice from a DataFrame.\n",
      "Try using .loc[row_indexer,col_indexer] = value instead\n",
      "\n",
      "See the caveats in the documentation: http://pandas.pydata.org/pandas-docs/stable/indexing.html#indexing-view-versus-copy\n",
      "  from ipykernel import kernelapp as app\n",
      "/anaconda3/lib/python3.7/site-packages/ipykernel_launcher.py:16: SettingWithCopyWarning: \n",
      "A value is trying to be set on a copy of a slice from a DataFrame.\n",
      "Try using .loc[row_indexer,col_indexer] = value instead\n",
      "\n",
      "See the caveats in the documentation: http://pandas.pydata.org/pandas-docs/stable/indexing.html#indexing-view-versus-copy\n",
      "  app.launch_new_instance()\n"
     ]
    }
   ],
   "source": [
    "\n",
    "string.punctuation\n",
    "\n",
    "punct = set(string.punctuation)\n",
    "punct.remove('@')\n",
    "punct.remove('#')\n",
    "punct.add('🇺🇸')\n",
    "punct.add('🤢')\n",
    "\n",
    "lemmer = WordNetLemmatizer()\n",
    "stemmer = SnowballStemmer('english')\n",
    "\n",
    "tweets_english['tweet_text'] = tweets_english['tweet_text'].apply(lambda x: x.lower())\n",
    "tweets_english['tweet_text'] = tweets_english['tweet_text'].apply(lambda x: remove_symbols(x, punct))\n",
    "tweets_english['tweet_text'] = tweets_english['tweet_text'].apply(lambda x: re.sub(r'https?:\\/\\/.*\\/\\w*', '', x))\n",
    "tweets_english['tweet_text'] = tweets_english['tweet_text'].apply(lambda x: lemmer.lemmatize(x))\n",
    "tweets_english['tweet_text'] = tweets_english['tweet_text'].apply(lambda x: stemmer.stem(x))"
   ]
  },
  {
   "cell_type": "code",
   "execution_count": 10,
   "metadata": {},
   "outputs": [
    {
     "data": {
      "text/plain": [
       "461412    watch kevin mccarthy warns the first thing dem...\n",
       "62182     shock report election cyberattacks traced… we ...\n",
       "231614    alabama about to begin brutal new rule for tea...\n",
       "Name: tweet_text, dtype: object"
      ]
     },
     "execution_count": 10,
     "metadata": {},
     "output_type": "execute_result"
    }
   ],
   "source": [
    "tweets_english.tweet_text.sample(3)\n"
   ]
  },
  {
   "cell_type": "code",
   "execution_count": 11,
   "metadata": {},
   "outputs": [
    {
     "data": {
      "text/plain": [
       "CountVectorizer(analyzer='word', binary=False, decode_error='strict',\n",
       "                dtype=<class 'numpy.int64'>, encoding='utf-8', input='content',\n",
       "                lowercase=True, max_df=1.0, max_features=None, min_df=1,\n",
       "                ngram_range=(1, 1), preprocessor=None, stop_words='english',\n",
       "                strip_accents=None, token_pattern='(?u)\\\\b\\\\w\\\\w+\\\\b',\n",
       "                tokenizer=None,\n",
       "                vocabulary=Index(['a', 'aa', 'aardvarkartglass', 'aaron', 'ab', 'aback', 'abagail',\n",
       "       'abah', 'abandon', 'abandoned',\n",
       "       ...\n",
       "       'zoned', 'zones', 'zoning', 'zoo', 'zoom', 'zoomed', 'zooming',\n",
       "       'zoophiliac', 'zoos', 'zouk'],\n",
       "      dtype='object', name='word', length=23634))"
      ]
     },
     "execution_count": 11,
     "metadata": {},
     "output_type": "execute_result"
    }
   ],
   "source": [
    "vectorizer = CountVectorizer(stop_words='english', vocabulary = em_data.index)\n",
    "vectorizer.fit(tweets_english.tweet_text)"
   ]
  },
  {
   "cell_type": "code",
   "execution_count": 12,
   "metadata": {},
   "outputs": [],
   "source": [
    "X = vectorizer.transform(tweets_english.tweet_text)\n"
   ]
  },
  {
   "cell_type": "code",
   "execution_count": 13,
   "metadata": {},
   "outputs": [
    {
     "data": {
      "text/plain": [
       "<494275x23634 sparse matrix of type '<class 'numpy.int64'>'\n",
       "\twith 2817613 stored elements in Compressed Sparse Row format>"
      ]
     },
     "execution_count": 13,
     "metadata": {},
     "output_type": "execute_result"
    }
   ],
   "source": [
    "X"
   ]
  },
  {
   "cell_type": "code",
   "execution_count": 14,
   "metadata": {},
   "outputs": [
    {
     "data": {
      "text/plain": [
       "['a',\n",
       " 'aa',\n",
       " 'aardvarkartglass',\n",
       " 'aaron',\n",
       " 'ab',\n",
       " 'aback',\n",
       " 'abagail',\n",
       " 'abah',\n",
       " 'abandon',\n",
       " 'abandoned']"
      ]
     },
     "execution_count": 14,
     "metadata": {},
     "output_type": "execute_result"
    }
   ],
   "source": [
    "features = vectorizer.get_feature_names()\n",
    "features[:10]\n",
    "\n",
    "# features = vectorizer.get_feature_names()\n",
    "# features[0:10]"
   ]
  },
  {
   "cell_type": "code",
   "execution_count": 15,
   "metadata": {},
   "outputs": [
    {
     "data": {
      "text/plain": [
       "(23634, 7)"
      ]
     },
     "execution_count": 15,
     "metadata": {},
     "output_type": "execute_result"
    }
   ],
   "source": [
    "em_data.shape\n"
   ]
  },
  {
   "cell_type": "code",
   "execution_count": 16,
   "metadata": {},
   "outputs": [
    {
     "data": {
      "text/plain": [
       "True"
      ]
     },
     "execution_count": 16,
     "metadata": {},
     "output_type": "execute_result"
    }
   ],
   "source": [
    "(em_data.index == vectorizer.get_feature_names()).all()\n"
   ]
  },
  {
   "cell_type": "code",
   "execution_count": 17,
   "metadata": {},
   "outputs": [
    {
     "data": {
      "text/plain": [
       "(23634, 7)"
      ]
     },
     "execution_count": 17,
     "metadata": {},
     "output_type": "execute_result"
    }
   ],
   "source": [
    "em_data.values.shape"
   ]
  },
  {
   "cell_type": "code",
   "execution_count": 18,
   "metadata": {},
   "outputs": [
    {
     "data": {
      "text/plain": [
       "(494275, 23634)"
      ]
     },
     "execution_count": 18,
     "metadata": {},
     "output_type": "execute_result"
    }
   ],
   "source": [
    "X.shape"
   ]
  },
  {
   "cell_type": "code",
   "execution_count": 19,
   "metadata": {},
   "outputs": [],
   "source": [
    "em_freq_np = X @ em_data.values"
   ]
  },
  {
   "cell_type": "code",
   "execution_count": 20,
   "metadata": {},
   "outputs": [
    {
     "data": {
      "text/plain": [
       "numpy.ndarray"
      ]
     },
     "execution_count": 20,
     "metadata": {},
     "output_type": "execute_result"
    }
   ],
   "source": [
    "type(em_freq_np)"
   ]
  },
  {
   "cell_type": "code",
   "execution_count": 21,
   "metadata": {},
   "outputs": [
    {
     "data": {
      "text/plain": [
       "(494275, 7)"
      ]
     },
     "execution_count": 21,
     "metadata": {},
     "output_type": "execute_result"
    }
   ],
   "source": [
    "em_freq_np.shape\n"
   ]
  },
  {
   "cell_type": "code",
   "execution_count": 22,
   "metadata": {},
   "outputs": [],
   "source": [
    "em_freq_df = pd.DataFrame.from_records(em_freq_np)"
   ]
  },
  {
   "cell_type": "code",
   "execution_count": 23,
   "metadata": {},
   "outputs": [],
   "source": [
    "em_freq_df.columns = em_data.columns"
   ]
  },
  {
   "cell_type": "code",
   "execution_count": 24,
   "metadata": {},
   "outputs": [
    {
     "data": {
      "text/html": [
       "<div>\n",
       "<style scoped>\n",
       "    .dataframe tbody tr th:only-of-type {\n",
       "        vertical-align: middle;\n",
       "    }\n",
       "\n",
       "    .dataframe tbody tr th {\n",
       "        vertical-align: top;\n",
       "    }\n",
       "\n",
       "    .dataframe thead th {\n",
       "        text-align: right;\n",
       "    }\n",
       "</style>\n",
       "<table border=\"1\" class=\"dataframe\">\n",
       "  <thead>\n",
       "    <tr style=\"text-align: right;\">\n",
       "      <th></th>\n",
       "      <th>disgust</th>\n",
       "      <th>surprise</th>\n",
       "      <th>neutral</th>\n",
       "      <th>anger</th>\n",
       "      <th>sad</th>\n",
       "      <th>happy</th>\n",
       "      <th>fear</th>\n",
       "    </tr>\n",
       "  </thead>\n",
       "  <tbody>\n",
       "    <tr>\n",
       "      <th>0</th>\n",
       "      <td>0.037122</td>\n",
       "      <td>0.071642</td>\n",
       "      <td>0.038536</td>\n",
       "      <td>0.156016</td>\n",
       "      <td>0.083933</td>\n",
       "      <td>0.131350</td>\n",
       "      <td>0.097009</td>\n",
       "    </tr>\n",
       "    <tr>\n",
       "      <th>1</th>\n",
       "      <td>0.012486</td>\n",
       "      <td>0.064457</td>\n",
       "      <td>0.013908</td>\n",
       "      <td>0.269721</td>\n",
       "      <td>0.102912</td>\n",
       "      <td>0.060459</td>\n",
       "      <td>0.111345</td>\n",
       "    </tr>\n",
       "    <tr>\n",
       "      <th>2</th>\n",
       "      <td>0.018078</td>\n",
       "      <td>0.168943</td>\n",
       "      <td>0.018078</td>\n",
       "      <td>0.246357</td>\n",
       "      <td>0.180058</td>\n",
       "      <td>0.152333</td>\n",
       "      <td>0.163687</td>\n",
       "    </tr>\n",
       "    <tr>\n",
       "      <th>3</th>\n",
       "      <td>0.011591</td>\n",
       "      <td>0.089000</td>\n",
       "      <td>0.061485</td>\n",
       "      <td>0.152828</td>\n",
       "      <td>0.098354</td>\n",
       "      <td>0.043054</td>\n",
       "      <td>0.173494</td>\n",
       "    </tr>\n",
       "    <tr>\n",
       "      <th>4</th>\n",
       "      <td>0.028409</td>\n",
       "      <td>0.159903</td>\n",
       "      <td>0.028409</td>\n",
       "      <td>0.041396</td>\n",
       "      <td>0.179383</td>\n",
       "      <td>0.044643</td>\n",
       "      <td>0.088474</td>\n",
       "    </tr>\n",
       "  </tbody>\n",
       "</table>\n",
       "</div>"
      ],
      "text/plain": [
       "    disgust  surprise   neutral     anger       sad     happy      fear\n",
       "0  0.037122  0.071642  0.038536  0.156016  0.083933  0.131350  0.097009\n",
       "1  0.012486  0.064457  0.013908  0.269721  0.102912  0.060459  0.111345\n",
       "2  0.018078  0.168943  0.018078  0.246357  0.180058  0.152333  0.163687\n",
       "3  0.011591  0.089000  0.061485  0.152828  0.098354  0.043054  0.173494\n",
       "4  0.028409  0.159903  0.028409  0.041396  0.179383  0.044643  0.088474"
      ]
     },
     "execution_count": 24,
     "metadata": {},
     "output_type": "execute_result"
    }
   ],
   "source": [
    "em_freq_df.head()"
   ]
  },
  {
   "cell_type": "code",
   "execution_count": 25,
   "metadata": {},
   "outputs": [
    {
     "data": {
      "text/plain": [
       "(494275, 7)"
      ]
     },
     "execution_count": 25,
     "metadata": {},
     "output_type": "execute_result"
    }
   ],
   "source": [
    "em_freq_df.shape"
   ]
  },
  {
   "cell_type": "markdown",
   "metadata": {},
   "source": [
    "# Histogram of Happiness"
   ]
  },
  {
   "cell_type": "code",
   "execution_count": 26,
   "metadata": {},
   "outputs": [
    {
     "data": {
      "image/png": "[encoded data removed]",
      "text/plain": [
       "<Figure size 432x288 with 1 Axes>"
      ]
     },
     "metadata": {
      "needs_background": "light"
     },
     "output_type": "display_data"
    }
   ],
   "source": [
    "plt.hist( em_freq_np[:,5], bins=50 )\n",
    "plt.show()"
   ]
  },
  {
   "cell_type": "markdown",
   "metadata": {},
   "source": [
    "\n",
    "# Preparing Data for Plotting Time Series\n",
    "1. Subsetting original set to only include timestamp and tweet text.\n",
    "2. Concantenating With Data Frame containing time data."
   ]
  },
  {
   "cell_type": "code",
   "execution_count": 27,
   "metadata": {},
   "outputs": [],
   "source": [
    "tweet_time = (tweets_english[['tweet_text','tweet_time']]).reset_index(drop = True)"
   ]
  },
  {
   "cell_type": "code",
   "execution_count": 28,
   "metadata": {},
   "outputs": [
    {
     "data": {
      "text/plain": [
       "(                                          tweet_text        tweet_time\n",
       " 0  truth about “right to healthcare” every lib ne...  2017-03-13 13:27\n",
       " 1  breaking air force makes tragic announcement p...  2017-11-21 20:11\n",
       " 2  happening now disney facing a scandal so catas...  2018-07-20 18:22,\n",
       " (494275, 2))"
      ]
     },
     "execution_count": 28,
     "metadata": {},
     "output_type": "execute_result"
    }
   ],
   "source": [
    "tweet_time.head(3), tweet_time.shape"
   ]
  },
  {
   "cell_type": "code",
   "execution_count": 29,
   "metadata": {},
   "outputs": [
    {
     "data": {
      "text/html": [
       "<div>\n",
       "<style scoped>\n",
       "    .dataframe tbody tr th:only-of-type {\n",
       "        vertical-align: middle;\n",
       "    }\n",
       "\n",
       "    .dataframe tbody tr th {\n",
       "        vertical-align: top;\n",
       "    }\n",
       "\n",
       "    .dataframe thead th {\n",
       "        text-align: right;\n",
       "    }\n",
       "</style>\n",
       "<table border=\"1\" class=\"dataframe\">\n",
       "  <thead>\n",
       "    <tr style=\"text-align: right;\">\n",
       "      <th></th>\n",
       "      <th>tweet_text</th>\n",
       "      <th>tweet_time</th>\n",
       "      <th>disgust</th>\n",
       "      <th>surprise</th>\n",
       "      <th>neutral</th>\n",
       "      <th>anger</th>\n",
       "      <th>sad</th>\n",
       "      <th>happy</th>\n",
       "      <th>fear</th>\n",
       "    </tr>\n",
       "  </thead>\n",
       "  <tbody>\n",
       "    <tr>\n",
       "      <th>0</th>\n",
       "      <td>truth about “right to healthcare” every lib ne...</td>\n",
       "      <td>2017-03-13 13:27</td>\n",
       "      <td>0.037122</td>\n",
       "      <td>0.071642</td>\n",
       "      <td>0.038536</td>\n",
       "      <td>0.156016</td>\n",
       "      <td>0.083933</td>\n",
       "      <td>0.131350</td>\n",
       "      <td>0.097009</td>\n",
       "    </tr>\n",
       "    <tr>\n",
       "      <th>1</th>\n",
       "      <td>breaking air force makes tragic announcement p...</td>\n",
       "      <td>2017-11-21 20:11</td>\n",
       "      <td>0.012486</td>\n",
       "      <td>0.064457</td>\n",
       "      <td>0.013908</td>\n",
       "      <td>0.269721</td>\n",
       "      <td>0.102912</td>\n",
       "      <td>0.060459</td>\n",
       "      <td>0.111345</td>\n",
       "    </tr>\n",
       "    <tr>\n",
       "      <th>2</th>\n",
       "      <td>happening now disney facing a scandal so catas...</td>\n",
       "      <td>2018-07-20 18:22</td>\n",
       "      <td>0.018078</td>\n",
       "      <td>0.168943</td>\n",
       "      <td>0.018078</td>\n",
       "      <td>0.246357</td>\n",
       "      <td>0.180058</td>\n",
       "      <td>0.152333</td>\n",
       "      <td>0.163687</td>\n",
       "    </tr>\n",
       "    <tr>\n",
       "      <th>3</th>\n",
       "      <td>another stupid gun control cartoon from the le...</td>\n",
       "      <td>2017-11-07 11:36</td>\n",
       "      <td>0.011591</td>\n",
       "      <td>0.089000</td>\n",
       "      <td>0.061485</td>\n",
       "      <td>0.152828</td>\n",
       "      <td>0.098354</td>\n",
       "      <td>0.043054</td>\n",
       "      <td>0.173494</td>\n",
       "    </tr>\n",
       "    <tr>\n",
       "      <th>4</th>\n",
       "      <td>➡️ 90 pounds of cocaine found on ship owned by...</td>\n",
       "      <td>2017-03-24 13:37</td>\n",
       "      <td>0.028409</td>\n",
       "      <td>0.159903</td>\n",
       "      <td>0.028409</td>\n",
       "      <td>0.041396</td>\n",
       "      <td>0.179383</td>\n",
       "      <td>0.044643</td>\n",
       "      <td>0.088474</td>\n",
       "    </tr>\n",
       "  </tbody>\n",
       "</table>\n",
       "</div>"
      ],
      "text/plain": [
       "                                          tweet_text        tweet_time  \\\n",
       "0  truth about “right to healthcare” every lib ne...  2017-03-13 13:27   \n",
       "1  breaking air force makes tragic announcement p...  2017-11-21 20:11   \n",
       "2  happening now disney facing a scandal so catas...  2018-07-20 18:22   \n",
       "3  another stupid gun control cartoon from the le...  2017-11-07 11:36   \n",
       "4  ➡️ 90 pounds of cocaine found on ship owned by...  2017-03-24 13:37   \n",
       "\n",
       "    disgust  surprise   neutral     anger       sad     happy      fear  \n",
       "0  0.037122  0.071642  0.038536  0.156016  0.083933  0.131350  0.097009  \n",
       "1  0.012486  0.064457  0.013908  0.269721  0.102912  0.060459  0.111345  \n",
       "2  0.018078  0.168943  0.018078  0.246357  0.180058  0.152333  0.163687  \n",
       "3  0.011591  0.089000  0.061485  0.152828  0.098354  0.043054  0.173494  \n",
       "4  0.028409  0.159903  0.028409  0.041396  0.179383  0.044643  0.088474  "
      ]
     },
     "execution_count": 29,
     "metadata": {},
     "output_type": "execute_result"
    }
   ],
   "source": [
    "emotions_frequencies = pd.concat([tweet_time, em_freq_df], axis = 1)\n",
    "emotions_frequencies.head()"
   ]
  },
  {
   "cell_type": "markdown",
   "metadata": {},
   "source": [
    "# Plotting Emotion Detection Time Series"
   ]
  },
  {
   "cell_type": "markdown",
   "metadata": {},
   "source": [
    "DF's for emotions"
   ]
  },
  {
   "cell_type": "code",
   "execution_count": 30,
   "metadata": {},
   "outputs": [
    {
     "data": {
      "text/html": [
       "<div>\n",
       "<style scoped>\n",
       "    .dataframe tbody tr th:only-of-type {\n",
       "        vertical-align: middle;\n",
       "    }\n",
       "\n",
       "    .dataframe tbody tr th {\n",
       "        vertical-align: top;\n",
       "    }\n",
       "\n",
       "    .dataframe thead th {\n",
       "        text-align: right;\n",
       "    }\n",
       "</style>\n",
       "<table border=\"1\" class=\"dataframe\">\n",
       "  <thead>\n",
       "    <tr style=\"text-align: right;\">\n",
       "      <th></th>\n",
       "      <th>tweet_time</th>\n",
       "      <th>disgust</th>\n",
       "    </tr>\n",
       "  </thead>\n",
       "  <tbody>\n",
       "    <tr>\n",
       "      <th>0</th>\n",
       "      <td>2017-03-13 13:27</td>\n",
       "      <td>0.037122</td>\n",
       "    </tr>\n",
       "    <tr>\n",
       "      <th>1</th>\n",
       "      <td>2017-11-21 20:11</td>\n",
       "      <td>0.012486</td>\n",
       "    </tr>\n",
       "  </tbody>\n",
       "</table>\n",
       "</div>"
      ],
      "text/plain": [
       "         tweet_time   disgust\n",
       "0  2017-03-13 13:27  0.037122\n",
       "1  2017-11-21 20:11  0.012486"
      ]
     },
     "execution_count": 30,
     "metadata": {},
     "output_type": "execute_result"
    }
   ],
   "source": [
    "disgust = emotions_frequencies[['tweet_time','disgust']]\n",
    "disgust.head(2)"
   ]
  },
  {
   "cell_type": "code",
   "execution_count": 31,
   "metadata": {},
   "outputs": [
    {
     "data": {
      "text/html": [
       "<div>\n",
       "<style scoped>\n",
       "    .dataframe tbody tr th:only-of-type {\n",
       "        vertical-align: middle;\n",
       "    }\n",
       "\n",
       "    .dataframe tbody tr th {\n",
       "        vertical-align: top;\n",
       "    }\n",
       "\n",
       "    .dataframe thead th {\n",
       "        text-align: right;\n",
       "    }\n",
       "</style>\n",
       "<table border=\"1\" class=\"dataframe\">\n",
       "  <thead>\n",
       "    <tr style=\"text-align: right;\">\n",
       "      <th></th>\n",
       "      <th>tweet_time</th>\n",
       "      <th>surprise</th>\n",
       "    </tr>\n",
       "  </thead>\n",
       "  <tbody>\n",
       "    <tr>\n",
       "      <th>0</th>\n",
       "      <td>2017-03-13 13:27</td>\n",
       "      <td>0.071642</td>\n",
       "    </tr>\n",
       "    <tr>\n",
       "      <th>1</th>\n",
       "      <td>2017-11-21 20:11</td>\n",
       "      <td>0.064457</td>\n",
       "    </tr>\n",
       "  </tbody>\n",
       "</table>\n",
       "</div>"
      ],
      "text/plain": [
       "         tweet_time  surprise\n",
       "0  2017-03-13 13:27  0.071642\n",
       "1  2017-11-21 20:11  0.064457"
      ]
     },
     "execution_count": 31,
     "metadata": {},
     "output_type": "execute_result"
    }
   ],
   "source": [
    "surprise = emotions_frequencies[['tweet_time','surprise']]\n",
    "surprise.head(2)"
   ]
  },
  {
   "cell_type": "code",
   "execution_count": 32,
   "metadata": {
    "scrolled": true
   },
   "outputs": [
    {
     "data": {
      "text/html": [
       "<div>\n",
       "<style scoped>\n",
       "    .dataframe tbody tr th:only-of-type {\n",
       "        vertical-align: middle;\n",
       "    }\n",
       "\n",
       "    .dataframe tbody tr th {\n",
       "        vertical-align: top;\n",
       "    }\n",
       "\n",
       "    .dataframe thead th {\n",
       "        text-align: right;\n",
       "    }\n",
       "</style>\n",
       "<table border=\"1\" class=\"dataframe\">\n",
       "  <thead>\n",
       "    <tr style=\"text-align: right;\">\n",
       "      <th></th>\n",
       "      <th>tweet_time</th>\n",
       "      <th>neutral</th>\n",
       "    </tr>\n",
       "  </thead>\n",
       "  <tbody>\n",
       "    <tr>\n",
       "      <th>0</th>\n",
       "      <td>2017-03-13 13:27</td>\n",
       "      <td>0.038536</td>\n",
       "    </tr>\n",
       "    <tr>\n",
       "      <th>1</th>\n",
       "      <td>2017-11-21 20:11</td>\n",
       "      <td>0.013908</td>\n",
       "    </tr>\n",
       "  </tbody>\n",
       "</table>\n",
       "</div>"
      ],
      "text/plain": [
       "         tweet_time   neutral\n",
       "0  2017-03-13 13:27  0.038536\n",
       "1  2017-11-21 20:11  0.013908"
      ]
     },
     "execution_count": 32,
     "metadata": {},
     "output_type": "execute_result"
    }
   ],
   "source": [
    "neutral = emotions_frequencies[['tweet_time','neutral']]\n",
    "neutral.head(2)"
   ]
  },
  {
   "cell_type": "code",
   "execution_count": 33,
   "metadata": {},
   "outputs": [
    {
     "data": {
      "text/html": [
       "<div>\n",
       "<style scoped>\n",
       "    .dataframe tbody tr th:only-of-type {\n",
       "        vertical-align: middle;\n",
       "    }\n",
       "\n",
       "    .dataframe tbody tr th {\n",
       "        vertical-align: top;\n",
       "    }\n",
       "\n",
       "    .dataframe thead th {\n",
       "        text-align: right;\n",
       "    }\n",
       "</style>\n",
       "<table border=\"1\" class=\"dataframe\">\n",
       "  <thead>\n",
       "    <tr style=\"text-align: right;\">\n",
       "      <th></th>\n",
       "      <th>tweet_time</th>\n",
       "      <th>anger</th>\n",
       "    </tr>\n",
       "  </thead>\n",
       "  <tbody>\n",
       "    <tr>\n",
       "      <th>0</th>\n",
       "      <td>2017-03-13 13:27</td>\n",
       "      <td>0.156016</td>\n",
       "    </tr>\n",
       "    <tr>\n",
       "      <th>1</th>\n",
       "      <td>2017-11-21 20:11</td>\n",
       "      <td>0.269721</td>\n",
       "    </tr>\n",
       "  </tbody>\n",
       "</table>\n",
       "</div>"
      ],
      "text/plain": [
       "         tweet_time     anger\n",
       "0  2017-03-13 13:27  0.156016\n",
       "1  2017-11-21 20:11  0.269721"
      ]
     },
     "execution_count": 33,
     "metadata": {},
     "output_type": "execute_result"
    }
   ],
   "source": [
    "anger= emotions_frequencies[['tweet_time', 'anger' ]]\n",
    "anger.head(2)"
   ]
  },
  {
   "cell_type": "code",
   "execution_count": 34,
   "metadata": {},
   "outputs": [
    {
     "data": {
      "text/html": [
       "<div>\n",
       "<style scoped>\n",
       "    .dataframe tbody tr th:only-of-type {\n",
       "        vertical-align: middle;\n",
       "    }\n",
       "\n",
       "    .dataframe tbody tr th {\n",
       "        vertical-align: top;\n",
       "    }\n",
       "\n",
       "    .dataframe thead th {\n",
       "        text-align: right;\n",
       "    }\n",
       "</style>\n",
       "<table border=\"1\" class=\"dataframe\">\n",
       "  <thead>\n",
       "    <tr style=\"text-align: right;\">\n",
       "      <th></th>\n",
       "      <th>tweet_time</th>\n",
       "      <th>sad</th>\n",
       "    </tr>\n",
       "  </thead>\n",
       "  <tbody>\n",
       "    <tr>\n",
       "      <th>0</th>\n",
       "      <td>2017-03-13 13:27</td>\n",
       "      <td>0.083933</td>\n",
       "    </tr>\n",
       "    <tr>\n",
       "      <th>1</th>\n",
       "      <td>2017-11-21 20:11</td>\n",
       "      <td>0.102912</td>\n",
       "    </tr>\n",
       "  </tbody>\n",
       "</table>\n",
       "</div>"
      ],
      "text/plain": [
       "         tweet_time       sad\n",
       "0  2017-03-13 13:27  0.083933\n",
       "1  2017-11-21 20:11  0.102912"
      ]
     },
     "execution_count": 34,
     "metadata": {},
     "output_type": "execute_result"
    }
   ],
   "source": [
    "\n",
    "sad= emotions_frequencies[['tweet_time', 'sad' ]]\n",
    "sad.head(2)"
   ]
  },
  {
   "cell_type": "code",
   "execution_count": 35,
   "metadata": {},
   "outputs": [
    {
     "data": {
      "text/html": [
       "<div>\n",
       "<style scoped>\n",
       "    .dataframe tbody tr th:only-of-type {\n",
       "        vertical-align: middle;\n",
       "    }\n",
       "\n",
       "    .dataframe tbody tr th {\n",
       "        vertical-align: top;\n",
       "    }\n",
       "\n",
       "    .dataframe thead th {\n",
       "        text-align: right;\n",
       "    }\n",
       "</style>\n",
       "<table border=\"1\" class=\"dataframe\">\n",
       "  <thead>\n",
       "    <tr style=\"text-align: right;\">\n",
       "      <th></th>\n",
       "      <th>tweet_time</th>\n",
       "      <th>happy</th>\n",
       "    </tr>\n",
       "  </thead>\n",
       "  <tbody>\n",
       "    <tr>\n",
       "      <th>0</th>\n",
       "      <td>2017-03-13 13:27</td>\n",
       "      <td>0.131350</td>\n",
       "    </tr>\n",
       "    <tr>\n",
       "      <th>1</th>\n",
       "      <td>2017-11-21 20:11</td>\n",
       "      <td>0.060459</td>\n",
       "    </tr>\n",
       "  </tbody>\n",
       "</table>\n",
       "</div>"
      ],
      "text/plain": [
       "         tweet_time     happy\n",
       "0  2017-03-13 13:27  0.131350\n",
       "1  2017-11-21 20:11  0.060459"
      ]
     },
     "execution_count": 35,
     "metadata": {},
     "output_type": "execute_result"
    }
   ],
   "source": [
    "happy= emotions_frequencies[['tweet_time', 'happy' ]]\n",
    "happy.head(2)"
   ]
  },
  {
   "cell_type": "code",
   "execution_count": 36,
   "metadata": {},
   "outputs": [
    {
     "data": {
      "text/html": [
       "<div>\n",
       "<style scoped>\n",
       "    .dataframe tbody tr th:only-of-type {\n",
       "        vertical-align: middle;\n",
       "    }\n",
       "\n",
       "    .dataframe tbody tr th {\n",
       "        vertical-align: top;\n",
       "    }\n",
       "\n",
       "    .dataframe thead th {\n",
       "        text-align: right;\n",
       "    }\n",
       "</style>\n",
       "<table border=\"1\" class=\"dataframe\">\n",
       "  <thead>\n",
       "    <tr style=\"text-align: right;\">\n",
       "      <th></th>\n",
       "      <th>tweet_time</th>\n",
       "      <th>fear</th>\n",
       "    </tr>\n",
       "  </thead>\n",
       "  <tbody>\n",
       "    <tr>\n",
       "      <th>0</th>\n",
       "      <td>2017-03-13 13:27</td>\n",
       "      <td>0.097009</td>\n",
       "    </tr>\n",
       "    <tr>\n",
       "      <th>1</th>\n",
       "      <td>2017-11-21 20:11</td>\n",
       "      <td>0.111345</td>\n",
       "    </tr>\n",
       "  </tbody>\n",
       "</table>\n",
       "</div>"
      ],
      "text/plain": [
       "         tweet_time      fear\n",
       "0  2017-03-13 13:27  0.097009\n",
       "1  2017-11-21 20:11  0.111345"
      ]
     },
     "execution_count": 36,
     "metadata": {},
     "output_type": "execute_result"
    }
   ],
   "source": [
    "fear= emotions_frequencies[['tweet_time', 'fear' ]]\n",
    "fear.head(2)"
   ]
  },
  {
   "cell_type": "code",
   "execution_count": 37,
   "metadata": {},
   "outputs": [
    {
     "data": {
      "text/html": [
       "<div>\n",
       "<style scoped>\n",
       "    .dataframe tbody tr th:only-of-type {\n",
       "        vertical-align: middle;\n",
       "    }\n",
       "\n",
       "    .dataframe tbody tr th {\n",
       "        vertical-align: top;\n",
       "    }\n",
       "\n",
       "    .dataframe thead th {\n",
       "        text-align: right;\n",
       "    }\n",
       "</style>\n",
       "<table border=\"1\" class=\"dataframe\">\n",
       "  <thead>\n",
       "    <tr style=\"text-align: right;\">\n",
       "      <th></th>\n",
       "      <th>disgust</th>\n",
       "    </tr>\n",
       "    <tr>\n",
       "      <th>tweet_time</th>\n",
       "      <th></th>\n",
       "    </tr>\n",
       "  </thead>\n",
       "  <tbody>\n",
       "    <tr>\n",
       "      <th>2017-03-13 13:27:00</th>\n",
       "      <td>0.037122</td>\n",
       "    </tr>\n",
       "    <tr>\n",
       "      <th>2017-11-21 20:11:00</th>\n",
       "      <td>0.012486</td>\n",
       "    </tr>\n",
       "  </tbody>\n",
       "</table>\n",
       "</div>"
      ],
      "text/plain": [
       "                      disgust\n",
       "tweet_time                   \n",
       "2017-03-13 13:27:00  0.037122\n",
       "2017-11-21 20:11:00  0.012486"
      ]
     },
     "execution_count": 37,
     "metadata": {},
     "output_type": "execute_result"
    }
   ],
   "source": [
    "disgust_time = pd.DataFrame(pd.to_datetime( disgust[\"tweet_time\"] ))\n",
    "disgust_time['disgust'] = disgust['disgust']\n",
    "disgust_time.set_index(\"tweet_time\", inplace = True)\n",
    "disgust_time.head(2)\n",
    "\n",
    "# disgust_time = pd.DataFrame(pd.to_datetime(disgust['tweet_time']))\n",
    "# disgust_time['disgust'] = disgust['disgust']\n",
    "# disgust_time.set_index('tweet_time', inplace=True)\n",
    "# disgust_time.head(2)"
   ]
  },
  {
   "cell_type": "code",
   "execution_count": 38,
   "metadata": {},
   "outputs": [
    {
     "data": {
      "text/html": [
       "<div>\n",
       "<style scoped>\n",
       "    .dataframe tbody tr th:only-of-type {\n",
       "        vertical-align: middle;\n",
       "    }\n",
       "\n",
       "    .dataframe tbody tr th {\n",
       "        vertical-align: top;\n",
       "    }\n",
       "\n",
       "    .dataframe thead th {\n",
       "        text-align: right;\n",
       "    }\n",
       "</style>\n",
       "<table border=\"1\" class=\"dataframe\">\n",
       "  <thead>\n",
       "    <tr style=\"text-align: right;\">\n",
       "      <th></th>\n",
       "      <th>surprise</th>\n",
       "    </tr>\n",
       "    <tr>\n",
       "      <th>tweet_time</th>\n",
       "      <th></th>\n",
       "    </tr>\n",
       "  </thead>\n",
       "  <tbody>\n",
       "    <tr>\n",
       "      <th>2017-03-13 13:27:00</th>\n",
       "      <td>0.071642</td>\n",
       "    </tr>\n",
       "    <tr>\n",
       "      <th>2017-11-21 20:11:00</th>\n",
       "      <td>0.064457</td>\n",
       "    </tr>\n",
       "  </tbody>\n",
       "</table>\n",
       "</div>"
      ],
      "text/plain": [
       "                     surprise\n",
       "tweet_time                   \n",
       "2017-03-13 13:27:00  0.071642\n",
       "2017-11-21 20:11:00  0.064457"
      ]
     },
     "execution_count": 38,
     "metadata": {},
     "output_type": "execute_result"
    }
   ],
   "source": [
    "surprise_time = pd.DataFrame(pd.to_datetime( surprise[\"tweet_time\"] ))\n",
    "surprise_time['surprise'] = surprise['surprise']\n",
    "surprise_time.set_index(\"tweet_time\", inplace = True)\n",
    "surprise_time.head(2)\n",
    "\n",
    "# surprise_time = pd.DataFrame(pd.to_datetime(surprise['tweet_time']))\n",
    "# surprise_time['surprise'] = surprise['surprise']\n",
    "# surprise_time.set_index('tweet_time',inplace=True)\n",
    "# surprise_time.head(2)"
   ]
  },
  {
   "cell_type": "code",
   "execution_count": 39,
   "metadata": {},
   "outputs": [
    {
     "data": {
      "text/html": [
       "<div>\n",
       "<style scoped>\n",
       "    .dataframe tbody tr th:only-of-type {\n",
       "        vertical-align: middle;\n",
       "    }\n",
       "\n",
       "    .dataframe tbody tr th {\n",
       "        vertical-align: top;\n",
       "    }\n",
       "\n",
       "    .dataframe thead th {\n",
       "        text-align: right;\n",
       "    }\n",
       "</style>\n",
       "<table border=\"1\" class=\"dataframe\">\n",
       "  <thead>\n",
       "    <tr style=\"text-align: right;\">\n",
       "      <th></th>\n",
       "      <th>neutral</th>\n",
       "    </tr>\n",
       "    <tr>\n",
       "      <th>tweet_time</th>\n",
       "      <th></th>\n",
       "    </tr>\n",
       "  </thead>\n",
       "  <tbody>\n",
       "    <tr>\n",
       "      <th>2017-03-13 13:27:00</th>\n",
       "      <td>0.038536</td>\n",
       "    </tr>\n",
       "    <tr>\n",
       "      <th>2017-11-21 20:11:00</th>\n",
       "      <td>0.013908</td>\n",
       "    </tr>\n",
       "  </tbody>\n",
       "</table>\n",
       "</div>"
      ],
      "text/plain": [
       "                      neutral\n",
       "tweet_time                   \n",
       "2017-03-13 13:27:00  0.038536\n",
       "2017-11-21 20:11:00  0.013908"
      ]
     },
     "execution_count": 39,
     "metadata": {},
     "output_type": "execute_result"
    }
   ],
   "source": [
    "neutral_time = pd.DataFrame(pd.to_datetime(neutral['tweet_time']))\n",
    "neutral_time['neutral'] = neutral['neutral']\n",
    "neutral_time.set_index('tweet_time',inplace=True)\n",
    "neutral_time.head(2)"
   ]
  },
  {
   "cell_type": "code",
   "execution_count": 40,
   "metadata": {},
   "outputs": [
    {
     "data": {
      "text/html": [
       "<div>\n",
       "<style scoped>\n",
       "    .dataframe tbody tr th:only-of-type {\n",
       "        vertical-align: middle;\n",
       "    }\n",
       "\n",
       "    .dataframe tbody tr th {\n",
       "        vertical-align: top;\n",
       "    }\n",
       "\n",
       "    .dataframe thead th {\n",
       "        text-align: right;\n",
       "    }\n",
       "</style>\n",
       "<table border=\"1\" class=\"dataframe\">\n",
       "  <thead>\n",
       "    <tr style=\"text-align: right;\">\n",
       "      <th></th>\n",
       "      <th>anger</th>\n",
       "    </tr>\n",
       "    <tr>\n",
       "      <th>tweet_time</th>\n",
       "      <th></th>\n",
       "    </tr>\n",
       "  </thead>\n",
       "  <tbody>\n",
       "    <tr>\n",
       "      <th>2017-03-13 13:27:00</th>\n",
       "      <td>0.156016</td>\n",
       "    </tr>\n",
       "    <tr>\n",
       "      <th>2017-11-21 20:11:00</th>\n",
       "      <td>0.269721</td>\n",
       "    </tr>\n",
       "  </tbody>\n",
       "</table>\n",
       "</div>"
      ],
      "text/plain": [
       "                        anger\n",
       "tweet_time                   \n",
       "2017-03-13 13:27:00  0.156016\n",
       "2017-11-21 20:11:00  0.269721"
      ]
     },
     "execution_count": 40,
     "metadata": {},
     "output_type": "execute_result"
    }
   ],
   "source": [
    "anger_time = pd.DataFrame(pd.to_datetime( anger[\"tweet_time\"] ))\n",
    "anger_time['anger'] = anger['anger']\n",
    "anger_time.set_index(\"tweet_time\", inplace = True)\n",
    "anger_time.head(2)"
   ]
  },
  {
   "cell_type": "code",
   "execution_count": 41,
   "metadata": {},
   "outputs": [
    {
     "data": {
      "text/html": [
       "<div>\n",
       "<style scoped>\n",
       "    .dataframe tbody tr th:only-of-type {\n",
       "        vertical-align: middle;\n",
       "    }\n",
       "\n",
       "    .dataframe tbody tr th {\n",
       "        vertical-align: top;\n",
       "    }\n",
       "\n",
       "    .dataframe thead th {\n",
       "        text-align: right;\n",
       "    }\n",
       "</style>\n",
       "<table border=\"1\" class=\"dataframe\">\n",
       "  <thead>\n",
       "    <tr style=\"text-align: right;\">\n",
       "      <th></th>\n",
       "      <th>sad</th>\n",
       "    </tr>\n",
       "    <tr>\n",
       "      <th>tweet_time</th>\n",
       "      <th></th>\n",
       "    </tr>\n",
       "  </thead>\n",
       "  <tbody>\n",
       "    <tr>\n",
       "      <th>2017-03-13 13:27:00</th>\n",
       "      <td>0.083933</td>\n",
       "    </tr>\n",
       "    <tr>\n",
       "      <th>2017-11-21 20:11:00</th>\n",
       "      <td>0.102912</td>\n",
       "    </tr>\n",
       "  </tbody>\n",
       "</table>\n",
       "</div>"
      ],
      "text/plain": [
       "                          sad\n",
       "tweet_time                   \n",
       "2017-03-13 13:27:00  0.083933\n",
       "2017-11-21 20:11:00  0.102912"
      ]
     },
     "execution_count": 41,
     "metadata": {},
     "output_type": "execute_result"
    }
   ],
   "source": [
    "sad_time = pd.DataFrame(pd.to_datetime( sad[\"tweet_time\"] ))\n",
    "sad_time['sad'] = sad['sad']\n",
    "sad_time.set_index(\"tweet_time\", inplace = True)\n",
    "sad_time.head(2)"
   ]
  },
  {
   "cell_type": "code",
   "execution_count": 42,
   "metadata": {},
   "outputs": [
    {
     "data": {
      "text/html": [
       "<div>\n",
       "<style scoped>\n",
       "    .dataframe tbody tr th:only-of-type {\n",
       "        vertical-align: middle;\n",
       "    }\n",
       "\n",
       "    .dataframe tbody tr th {\n",
       "        vertical-align: top;\n",
       "    }\n",
       "\n",
       "    .dataframe thead th {\n",
       "        text-align: right;\n",
       "    }\n",
       "</style>\n",
       "<table border=\"1\" class=\"dataframe\">\n",
       "  <thead>\n",
       "    <tr style=\"text-align: right;\">\n",
       "      <th></th>\n",
       "      <th>happy</th>\n",
       "    </tr>\n",
       "    <tr>\n",
       "      <th>tweet_time</th>\n",
       "      <th></th>\n",
       "    </tr>\n",
       "  </thead>\n",
       "  <tbody>\n",
       "    <tr>\n",
       "      <th>2017-03-13 13:27:00</th>\n",
       "      <td>0.131350</td>\n",
       "    </tr>\n",
       "    <tr>\n",
       "      <th>2017-11-21 20:11:00</th>\n",
       "      <td>0.060459</td>\n",
       "    </tr>\n",
       "  </tbody>\n",
       "</table>\n",
       "</div>"
      ],
      "text/plain": [
       "                        happy\n",
       "tweet_time                   \n",
       "2017-03-13 13:27:00  0.131350\n",
       "2017-11-21 20:11:00  0.060459"
      ]
     },
     "execution_count": 42,
     "metadata": {},
     "output_type": "execute_result"
    }
   ],
   "source": [
    "happy_time = pd.DataFrame(pd.to_datetime( happy[\"tweet_time\"] ))\n",
    "happy_time['happy'] = happy['happy']\n",
    "happy_time.set_index(\"tweet_time\", inplace = True)\n",
    "happy_time.head(2)"
   ]
  },
  {
   "cell_type": "code",
   "execution_count": 43,
   "metadata": {},
   "outputs": [
    {
     "data": {
      "text/html": [
       "<div>\n",
       "<style scoped>\n",
       "    .dataframe tbody tr th:only-of-type {\n",
       "        vertical-align: middle;\n",
       "    }\n",
       "\n",
       "    .dataframe tbody tr th {\n",
       "        vertical-align: top;\n",
       "    }\n",
       "\n",
       "    .dataframe thead th {\n",
       "        text-align: right;\n",
       "    }\n",
       "</style>\n",
       "<table border=\"1\" class=\"dataframe\">\n",
       "  <thead>\n",
       "    <tr style=\"text-align: right;\">\n",
       "      <th></th>\n",
       "      <th>fear</th>\n",
       "    </tr>\n",
       "    <tr>\n",
       "      <th>tweet_time</th>\n",
       "      <th></th>\n",
       "    </tr>\n",
       "  </thead>\n",
       "  <tbody>\n",
       "    <tr>\n",
       "      <th>2017-03-13 13:27:00</th>\n",
       "      <td>0.097009</td>\n",
       "    </tr>\n",
       "    <tr>\n",
       "      <th>2017-11-21 20:11:00</th>\n",
       "      <td>0.111345</td>\n",
       "    </tr>\n",
       "  </tbody>\n",
       "</table>\n",
       "</div>"
      ],
      "text/plain": [
       "                         fear\n",
       "tweet_time                   \n",
       "2017-03-13 13:27:00  0.097009\n",
       "2017-11-21 20:11:00  0.111345"
      ]
     },
     "execution_count": 43,
     "metadata": {},
     "output_type": "execute_result"
    }
   ],
   "source": [
    "fear_time = pd.DataFrame(pd.to_datetime( fear[\"tweet_time\"] ))\n",
    "fear_time['fear'] = fear['fear']\n",
    "fear_time.set_index(\"tweet_time\", inplace = True)\n",
    "fear_time.head(2)"
   ]
  },
  {
   "cell_type": "markdown",
   "metadata": {},
   "source": [
    "# Monthly Emotions Detection. Cumulative"
   ]
  },
  {
   "cell_type": "code",
   "execution_count": 44,
   "metadata": {},
   "outputs": [],
   "source": [
    "monthly_disgust = disgust_time['disgust'].resample('M').sum()\n",
    "\n",
    "monthly_surprise = surprise_time['surprise'].resample('M').sum()\n",
    "\n",
    "monthly_neutral = neutral_time['neutral'].resample('M').sum()\n",
    "\n",
    "monthly_anger = anger_time['anger'].resample('M').sum()\n",
    "\n",
    "monthly_sad = sad_time['sad'].resample('M').sum()\n",
    "\n",
    "monthly_happy = happy_time['happy'].resample('M').sum()\n",
    "\n",
    "monthly_fear = fear_time['fear'].resample('M').sum()\n",
    "\n",
    "\n",
    "\n"
   ]
  },
  {
   "cell_type": "code",
   "execution_count": 52,
   "metadata": {},
   "outputs": [
    {
     "data": {
      "image/png": "[encoded data removed]",
      "text/plain": [
       "<Figure size 1584x576 with 1 Axes>"
      ]
     },
     "metadata": {},
     "output_type": "display_data"
    }
   ],
   "source": [
    "plt.figure(figsize=(22,8))\n",
    "sns.set(style=\"darkgrid\")\n",
    "plt.plot(monthly_disgust,  c = 'mediumorchid', linewidth=2.5, label = 'disgust')\n",
    "\n",
    "plt.plot(monthly_surprise,  c = 'cyan', linewidth=2.5, label = 'surprise')\n",
    "plt.plot(monthly_neutral,  c = 'lightpink', linewidth=2.5, label = 'neutral')\n",
    "plt.plot(monthly_anger,  c = 'darkslateblue', linewidth=2.5, label = 'anger')\n",
    "plt.plot(monthly_sad,  c = 'sienna', linewidth=2.5, label = 'sad')\n",
    "plt.plot(monthly_happy,  c = 'yellow', linewidth=3.5, label = 'happy')\n",
    "plt.plot(monthly_fear,  c = 'tomato', linewidth=3.5, label = 'fear')\n",
    "\n",
    "plt.legend(borderpad=2.5, fontsize = 15, loc='upper right')\n",
    "plt.xticks(fontsize = 20)\n",
    "plt.yticks(fontsize = 20)\n",
    "plt.ylabel('Emotion Detection. Tweets ', fontsize = 20)\n",
    "plt.grid(c = 'lemonchiffon', linestyle = '--')\n",
    "plt.title('Detecting Seven Basic Emotions: 2013 -- 2019 ', fontsize = 24)\n",
    "\n",
    "plt.show()\n",
    "\n",
    "\n",
    "\n",
    "\n"
   ]
  },
  {
   "cell_type": "code",
   "execution_count": 46,
   "metadata": {},
   "outputs": [
    {
     "data": {
      "image/png": "[encoded data removed]",
      "text/plain": [
       "<Figure size 432x288 with 1 Axes>"
      ]
     },
     "metadata": {},
     "output_type": "display_data"
    }
   ],
   "source": [
    "# plt.hist( em_freq_np[:,5], bins=50 )\n",
    "# plt.show()\n",
    "\n",
    "plt.hist( em_freq_np[:,5], bins=50)\n",
    "plt.show()"
   ]
  },
  {
   "cell_type": "code",
   "execution_count": 47,
   "metadata": {},
   "outputs": [
    {
     "data": {
      "text/plain": [
       "(494275, 7)"
      ]
     },
     "execution_count": 47,
     "metadata": {},
     "output_type": "execute_result"
    }
   ],
   "source": [
    "em_freq_np.shape\n",
    "#percentege of emotion associated with tweet"
   ]
  },
  {
   "cell_type": "code",
   "execution_count": 48,
   "metadata": {},
   "outputs": [],
   "source": [
    "import seaborn as sns\n"
   ]
  },
  {
   "cell_type": "code",
   "execution_count": 49,
   "metadata": {},
   "outputs": [
    {
     "data": {
      "image/png": "[encoded data removed]",
      "text/plain": [
       "<Figure size 1152x720 with 9 Axes>"
      ]
     },
     "metadata": {},
     "output_type": "display_data"
    }
   ],
   "source": [
    "fig, axs = plt.subplots(nrows = 3, ncols = 3, figsize=(16,10), sharex=True, sharey=True)\n",
    "fig.suptitle('Distributions of Seven Basic Emotions', fontsize = 24)\n",
    "\n",
    "\n",
    "\n",
    "sns.set()\n",
    "\n",
    "\n",
    "sns.distplot(em_freq_np[:,0], ax = axs[0, 0], bins = 50, axlabel = 'disgust', color='mediumorchid') \n",
    "sns.distplot(em_freq_np[:,1], ax = axs[0, 1], bins = 50, axlabel = 'surprise', color='deepskyblue')\n",
    "sns.distplot(em_freq_np[:,2], ax = axs[0, 2], bins = 50, axlabel = 'neutral', color = 'lightpink')\n",
    "sns.distplot(em_freq_np[:,3], ax = axs[1, 0], bins = 50, axlabel = 'anger', color = 'darkslateblue')\n",
    "sns.distplot(em_freq_np[:,4], ax = axs[1, 1], bins = 50, axlabel = 'sad', color = 'sienna')\n",
    "sns.distplot(em_freq_np[:,5], ax = axs[1, 2], bins = 50, axlabel = 'happy', color = 'yellow')\n",
    "sns.distplot(em_freq_np[:,5], ax = axs[2, 0], bins = 50, axlabel = 'fear', color = 'tomato')\n",
    "\n",
    "\n",
    "plt.grid(c = 'powderblue')\n",
    "plt.ylim(0, 23)\n",
    "plt.xlim(-0.1, 0.6)\n",
    "\n",
    "\n",
    "\n",
    "plt.show()\n",
    "\n",
    "\n",
    "\n",
    "\n"
   ]
  },
  {
   "cell_type": "code",
   "execution_count": 50,
   "metadata": {},
   "outputs": [],
   "source": [
    "\n",
    "# norm_monthly_disgust = disgust_time['disgust'].resample('M').sum()/monthly\n",
    "\n",
    "# norm_monthly_surprise = surprise_time['surprise'].resample('M').sum()/monthly\n",
    "\n",
    "# norm_monthly_neutral = neutral_time['neutral'].resample('M').sum()/monthly\n",
    "\n",
    "# norm_monthly_anger = anger_time['anger'].resample('M').sum()/monthly\n",
    "\n",
    "# norm_monthly_sad = sad_time['sad'].resample('M').sum()/monthly\n",
    "\n",
    "# norm_monthly_happy = happy_time['happy'].resample('M').sum()/monthly\n",
    "\n",
    "# norm_monthly_fear = fear_time['fear'].resample('M').sum()/monthly"
   ]
  },
  {
   "cell_type": "code",
   "execution_count": 54,
   "metadata": {},
   "outputs": [],
   "source": [
    "# # tweet_time = (tweets_english[['tweet_text','tweet_time']]).reset_index(drop = True)\n",
    "# # Number of Tweets Over Time\n",
    "# df_time = pd.DataFrame(pd.to_datetime( tweet_time[\"tweet_time\"] ))\n",
    "\n",
    "# df_time[\"count\"] = 1\n",
    "# df_time.set_index(\"tweet_time\", inplace = True)\n",
    "\n",
    "# monthly = df_time['count'].resample('M').sum()\n",
    "\n",
    "\n",
    "# ['Fuchsia', 'limegreen', 'lightpink', 'red', 'cyan', 'yellow', 'orange' ] \n",
    "\n",
    "# plt.figure(figsize=(22,8))\n",
    "# sns.set(style=\"darkgrid\")\n",
    "# plt.plot(norm_monthly_disgust,  c = 'Fuchsia', linewidth=2.5, label = 'disgust')\n",
    "\n",
    "# plt.plot(norm_monthly_surprise,  c = 'limegreen', linewidth=2.5, label = 'surprise')\n",
    "# plt.plot(norm_monthly_neutral,  c = 'lightpink', linewidth=2.5, label = 'neutral')\n",
    "# plt.plot(norm_monthly_anger,  c = 'red', linewidth=2.5, label = 'anger')\n",
    "# plt.plot(norm_monthly_sad,  c = 'cyan', linewidth=2.5, label = 'sad')\n",
    "# plt.plot(norm_monthly_happy,  c = 'yellow', linewidth=2.5, label = 'happy')\n",
    "# plt.plot(norm_monthly_fear,  c = 'orange', linewidth=3.5, label = 'fear')\n",
    "\n",
    "\n",
    "# plt.legend(borderpad=1.4, fontsize = 18, loc='upper right')\n",
    "# plt.xticks(fontsize = 20)\n",
    "# plt.yticks(fontsize = 20)\n",
    "# plt.ylabel('Emotional Composition. Tweets ', fontsize = 23)\n",
    "# plt.grid(c = 'lemonchiffon', linestyle = '--')\n",
    "# plt.title('Detecting Seven Basic Emotions: 2014 -- 2019 \\n Normalized ', fontsize = 24)\n",
    "# # plt.savefig('plots/norm_monthly_tweet_volume.png')\n",
    "\n",
    "# plt.show()"
   ]
  },
  {
   "cell_type": "code",
   "execution_count": null,
   "metadata": {},
   "outputs": [],
   "source": []
  }
 ],
 "metadata": {
  "kernelspec": {
   "display_name": "Python 3",
   "language": "python",
   "name": "python3"
  },
  "language_info": {
   "codemirror_mode": {
    "name": "ipython",
    "version": 3
   },
   "file_extension": ".py",
   "mimetype": "text/x-python",
   "name": "python",
   "nbconvert_exporter": "python",
   "pygments_lexer": "ipython3",
   "version": "3.7.2"
  }
 },
 "nbformat": 4,
 "nbformat_minor": 2
}
